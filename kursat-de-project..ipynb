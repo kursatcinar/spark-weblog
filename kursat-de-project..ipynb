﻿{
  "metadata": {
    "name": "kursat-de-project",
    "kernelspec": {
      "language": "scala",
      "name": "spark2-scala"
    },
    "language_info": {
      "codemirror_mode": "text/x-scala",
      "file_extension": ".scala",
      "mimetype": "text/x-scala",
      "name": "scala",
      "pygments_lexer": "scala"
    }
  },
  "nbformat": 4,
  "nbformat_minor": 2,
  "cells": [
    {
      "cell_type": "code",
      "execution_count": 0,
      "metadata": {
        "autoscroll": "auto"
      },
      "outputs": [],
      "source": "%sh\nls -lh"
    },
    {
      "cell_type": "code",
      "execution_count": 1,
      "metadata": {
        "autoscroll": "auto"
      },
      "outputs": [],
      "source": "%sh\nmkdir kursatcinar"
    },
    {
      "cell_type": "code",
      "execution_count": 2,
      "metadata": {
        "autoscroll": "auto"
      },
      "outputs": [],
      "source": "%sh\ngit clone https://github.com/kursatcinar/spark-weblog.git"
    },
    {
      "cell_type": "code",
      "execution_count": 3,
      "metadata": {
        "autoscroll": "auto"
      },
      "outputs": [],
      "source": "%sh\nmv spark-weblog kursatcinar/"
    },
    {
      "cell_type": "code",
      "execution_count": 4,
      "metadata": {
        "autoscroll": "auto"
      },
      "outputs": [],
      "source": "%sh\nls kursatcinar/spark-weblog/weblog/"
    },
    {
      "cell_type": "code",
      "execution_count": 5,
      "metadata": {
        "autoscroll": "auto"
      },
      "outputs": [],
      "source": "%sh\nhdfs dfs -mkdir kursat/weblogs"
    },
    {
      "cell_type": "code",
      "execution_count": 6,
      "metadata": {
        "autoscroll": "auto"
      },
      "outputs": [],
      "source": "%sh\nhdfs dfs -put kursatcinar/spark-weblog/weblog/* kursat/weblogs/"
    },
    {
      "cell_type": "code",
      "execution_count": 7,
      "metadata": {
        "autoscroll": "auto"
      },
      "outputs": [],
      "source": "%sh\nhdfs dfs -ls kursat/weblogs"
    },
    {
      "cell_type": "code",
      "execution_count": 8,
      "metadata": {
        "autoscroll": "auto"
      },
      "outputs": [],
      "source": "%spark\nval logsRDD \u003d sc.textFile(\"kursat/weblogs/\")"
    },
    {
      "cell_type": "code",
      "execution_count": 9,
      "metadata": {
        "autoscroll": "auto"
      },
      "outputs": [],
      "source": "%spark\n//val jpgLogsRDD \u003d logsRDD.keyBy(line \u003d\u003e line.split(\u0027 \u0027).take(7).last.split(\u0027.\u0027).last).filter{case (key, value) \u003d\u003e key.toUpperCase \u003d\u003d \"JPG\" || key.toUpperCase \u003d\u003d \"JPEG\"}\nval jpgLogsRDD \u003d logsRDD.keyBy(line \u003d\u003e line.split(\u0027 \u0027).take(7).last.split(\u0027.\u0027).last).flatMap{case (key, value) \u003d\u003e if(key.toUpperCase \u003d\u003d \"JPG\" || key.toUpperCase \u003d\u003d \"JPEG\") Some(value) else None}"
    },
    {
      "cell_type": "code",
      "execution_count": 10,
      "metadata": {
        "autoscroll": "auto"
      },
      "outputs": [],
      "source": "%spark\njpgLogsRDD.take(5)"
    },
    {
      "cell_type": "code",
      "execution_count": 11,
      "metadata": {
        "autoscroll": "auto"
      },
      "outputs": [],
      "source": "%spark\nfor (line \u003c- jpgLogsRDD.take(5)) println(line)"
    },
    {
      "cell_type": "code",
      "execution_count": 12,
      "metadata": {
        "autoscroll": "auto"
      },
      "outputs": [],
      "source": "%spark\nval lineLengthsRDD \u003d logsRDD.map(line \u003d\u003e line.length).collect()"
    },
    {
      "cell_type": "code",
      "execution_count": 13,
      "metadata": {
        "autoscroll": "auto"
      },
      "outputs": [],
      "source": "%spark\nfor (line \u003c- lineLengthsRDD.take(5)) println(line)"
    },
    {
      "cell_type": "code",
      "execution_count": 14,
      "metadata": {
        "autoscroll": "auto"
      },
      "outputs": [],
      "source": "%spark\nval lineFieldsRDD \u003d logsRDD.map(line \u003d\u003e line.split(\u0027 \u0027))\n\nlineFieldsRDD.take(5)"
    },
    {
      "cell_type": "code",
      "execution_count": 15,
      "metadata": {
        "autoscroll": "auto"
      },
      "outputs": [],
      "source": "%spark\nfor (line \u003c- lineFieldsRDD.take(5).take(20)) {\n  for (field \u003c- line.take(20)) {\n    println(field)\n  }\n  println(\"------------------------------------------\")\n}"
    },
    {
      "cell_type": "code",
      "execution_count": 16,
      "metadata": {
        "autoscroll": "auto"
      },
      "outputs": [],
      "source": "%spark\nval ipAddressesRDD \u003d logsRDD.flatMap(line \u003d\u003e line.split(\u0027 \u0027).take(1)).collect()"
    },
    {
      "cell_type": "code",
      "execution_count": 17,
      "metadata": {
        "autoscroll": "auto"
      },
      "outputs": [],
      "source": "%spark\n"
    }
  ]
}